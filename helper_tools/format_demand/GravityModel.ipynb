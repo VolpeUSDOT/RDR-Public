{
 "cells": [
  {
   "cell_type": "markdown",
   "id": "570ed4b8",
   "metadata": {},
   "source": [
    "# Gravity Model Walkthrough\n",
    "\n",
    "Based on code developed by Sadra Daneshvar (2023): https://github.com/SadraDaneshvar/Gravity_Model/blob/main/README.md\n",
    "\n",
    "### Input\n",
    "Input for this notebook: CSV list of production-attraction zones. It must have the following columns:\n",
    "- zone_id\n",
    "- x_coord (longitude, e.g., -123.4567)\n",
    "- y_coord (latitude, e.g., 40.4401)\n",
    "- production\n",
    "- attraction\n",
    "- zone_type (I for internal or E for external)\n",
    "\n",
    "### Output\n",
    "Output from this notebook: CSV trip tables for both production-attractions and origin-destinations\n",
    "\n",
    "This code sets II (internal-internal), IE, and EI trips. It does not set EE (external-external) trips."
   ]
  },
  {
   "cell_type": "markdown",
   "id": "5f48b21e",
   "metadata": {},
   "source": [
    "# Imports and Functions"
   ]
  },
  {
   "cell_type": "code",
   "execution_count": null,
   "id": "08266e12",
   "metadata": {},
   "outputs": [],
   "source": [
    "import numpy as np  # Import numpy for numerical operations\n",
    "import pandas as pd  # Import pandas for data manipulation\n",
    "from math import radians, cos, sin, asin, sqrt\n",
    "import csv"
   ]
  },
  {
   "cell_type": "code",
   "execution_count": null,
   "id": "850f2d7c",
   "metadata": {},
   "outputs": [],
   "source": [
    "def haversine(lon1, lat1, lon2, lat2):\n",
    "    \"\"\"\n",
    "    Calculate the great circle distance in miles between two points \n",
    "    on the earth (specified in decimal degrees)\n",
    "    Taken from the format_network helper tools\n",
    "    \"\"\"\n",
    "    # convert decimal degrees to radians\n",
    "    lon1, lat1, lon2, lat2 = map(radians, [lon1, lat1, lon2, lat2])\n",
    "\n",
    "    # haversine formula \n",
    "    dlon = lon2 - lon1 \n",
    "    dlat = lat2 - lat1 \n",
    "    a = sin(dlat/2)**2 + cos(lat1) * cos(lat2) * sin(dlon/2)**2\n",
    "    c = 2 * asin(sqrt(a)) \n",
    "    r = 3959.87433  # this is in miles\n",
    "    return c * r"
   ]
  },
  {
   "cell_type": "code",
   "execution_count": null,
   "id": "f945e49b",
   "metadata": {},
   "outputs": [],
   "source": [
    "def format_matrix(matrix, matrix_name):\n",
    "    matrix_size = matrix.shape[0]  # Get the number of rows in the matrix\n",
    "    # Create column names for the matrix\n",
    "    column_names = [f\"Zone {i}\" for i in range(1, matrix_size + 1)]\n",
    "    # Convert the matrix into a pandas DataFrame for pretty printing\n",
    "    formatted_matrix = pd.DataFrame(\n",
    "        matrix, columns=column_names, index=column_names\n",
    "    )\n",
    "    # Print the formatted matrix\n",
    "    print(f\"{matrix_name}:\\n\", formatted_matrix, \"\\n\")"
   ]
  },
  {
   "cell_type": "code",
   "execution_count": null,
   "id": "893af58a",
   "metadata": {},
   "outputs": [],
   "source": [
    "def deterrence_function(cij, beta):\n",
    "    return np.exp(-beta*cij)"
   ]
  },
  {
   "cell_type": "code",
   "execution_count": null,
   "id": "482d061a",
   "metadata": {},
   "outputs": [],
   "source": [
    "def gravity_model(\n",
    "    O,  # Origin matrix\n",
    "    D,  # Destination matrix\n",
    "    cost_matrix,  # Cost matrix\n",
    "    deterrence_matrix,  # Deterrence matrix\n",
    "    error_threshold=0.01,  # Error threshold for stopping condition\n",
    "    improvement_threshold=1e-4,  # Improvement threshold for stopping condition\n",
    "):\n",
    "    # Define a nested function to format and print matrices\n",
    "\n",
    "    # Print the initial cost matrix and deterrence matrix\n",
    "    format_matrix(cost_matrix, \"Initial Cost Matrix\")\n",
    "    format_matrix(deterrence_matrix, \"Deterrence Matrix\")\n",
    "\n",
    "    # Normalize O and D so their sums are equal\n",
    "    sum_O = np.sum(O)  # Sum of all elements in O\n",
    "    sum_D = np.sum(D)  # Sum of all elements in D\n",
    "    # Adjust O or D if their sums are not equal\n",
    "    if sum_O != sum_D:\n",
    "        if sum_O < sum_D:\n",
    "            correction_ratio = sum_D / sum_O  # Calculate correction ratio\n",
    "            O = O * correction_ratio  # Adjust O by the correction ratio\n",
    "        else:\n",
    "            correction_ratio = sum_O / sum_D  # Calculate correction ratio\n",
    "            D = D * correction_ratio  # Adjust D by the correction ratio\n",
    "\n",
    "    n = len(O)  # Number of zones\n",
    "    T = np.sum(O)  # Total number of trips\n",
    "\n",
    "    # Initialize balancing factors Ai and Bj\n",
    "    Ai = np.ones(n)  # Ai balancing factor, initially set to 1 for each zone\n",
    "    Bj = np.ones(n)  # Bj balancing factor, initially set to 1 for each zone\n",
    "\n",
    "    previous_error = np.inf  # Initialize previous error to infinity\n",
    "    iteration_count = 0  # Initialize iteration count\n",
    "    stop_reason = \"\"  # Initialize stop reason string\n",
    "\n",
    "    # Iterative process\n",
    "    while True:\n",
    "        iteration_count += 1  # Increment iteration count\n",
    "\n",
    "        # Update Ai balancing factors\n",
    "        for i in range(n):\n",
    "            Ai[i] = 1 / (np.sum(Bj * D * deterrence_matrix[i, :]) + 1e-9)\n",
    "\n",
    "        # Update Bj balancing factors\n",
    "        Bj_new = np.ones(n)  # Temporary array for new Bj values\n",
    "        for j in range(n):\n",
    "            Bj_new[j] = 1 / (np.sum(Ai * O * deterrence_matrix[:, j]) + 1e-9)\n",
    "\n",
    "        # Calculate Tij matrix for the model\n",
    "        Tij = np.outer(Ai * O, Bj_new * D) * deterrence_matrix\n",
    "\n",
    "        # Calculate the error of the model\n",
    "        error = (\n",
    "            np.sum(np.abs(O - np.sum(Tij, axis=1)))\n",
    "            + np.sum(np.abs(D - np.sum(Tij, axis=0)))\n",
    "        ) / T\n",
    "\n",
    "        # Calculate the change in error from the previous iteration\n",
    "        error_change = abs(previous_error - error)\n",
    "\n",
    "        # Check stopping conditions\n",
    "        if error < error_threshold:\n",
    "            stop_reason = \"Error threshold met\"  # Set stop reason\n",
    "            break  # Break the loop if error threshold is met\n",
    "        elif error_change < improvement_threshold:\n",
    "            stop_reason = \"Slow improvement\"  # Set stop reason\n",
    "            break  # Break the loop if improvement is slow\n",
    "\n",
    "        previous_error = error  # Update the previous error\n",
    "        Bj = Bj_new  # Update Bj with new values\n",
    "    \n",
    "    print(f\"Number of Iterations: {iteration_count}\")  # Print the number of iterations\n",
    "    print(f\"Stopping Condition: {stop_reason}\")  # Print the stopping condition\n",
    "    print(\n",
    "        f\"Error: {error*100:.3f}%\"\n",
    "    )  # Print the final error as a percentage with 3 decimal places\n",
    "\n",
    "    return(Tij)"
   ]
  },
  {
   "cell_type": "markdown",
   "id": "47a7276d-c0bc-49b0-b11e-999bd190329f",
   "metadata": {},
   "source": [
    "# Main Code"
   ]
  },
  {
   "cell_type": "code",
   "execution_count": null,
   "id": "e902c61b-9db6-42c8-ae50-16ff8137608b",
   "metadata": {},
   "outputs": [],
   "source": [
    "# Set up input and output file paths\n",
    "input_file = \"C:\\GitHub\\RDR\\Data\\sample_gravity\\PA.csv\"\n",
    "output_pa_file = \"C:\\GitHub\\RDR\\Data\\sample_gravity\\PAtrips.csv\"\n",
    "output_od_file = \"C:\\GitHub\\RDR\\Data\\sample_gravity\\ODtrips.csv\""
   ]
  },
  {
   "cell_type": "code",
   "execution_count": null,
   "id": "74f1461f",
   "metadata": {},
   "outputs": [],
   "source": [
    "# Read in the network zones\n",
    "df = pd.read_csv(input_file)\n",
    "df.shape"
   ]
  },
  {
   "cell_type": "code",
   "execution_count": null,
   "id": "ce82ca90",
   "metadata": {},
   "outputs": [],
   "source": [
    "# Create distance matrix\n",
    "# Calculate Haversine distance(coordinates, coordinates)\n",
    "distances = np.zeros([df.shape[0], df.shape[0]])"
   ]
  },
  {
   "cell_type": "code",
   "execution_count": null,
   "id": "f10929d5",
   "metadata": {},
   "outputs": [],
   "source": [
    "for i in df.index:\n",
    "    for j in df.index:\n",
    "        if(df['zone_type'][i] == 'E' and df['zone_type'][j] == 'E'):\n",
    "            distances[i][j] = 9999\n",
    "        else:\n",
    "            distances[i][j] = haversine(float(df['x_coord'][i]), float(df['y_coord'][i]), float(df['x_coord'][j]), float(df['y_coord'][j]))\n"
   ]
  },
  {
   "cell_type": "code",
   "execution_count": null,
   "id": "2ff7bedb",
   "metadata": {},
   "outputs": [],
   "source": [
    "print(distances)"
   ]
  },
  {
   "cell_type": "code",
   "execution_count": null,
   "id": "ea565cb0",
   "metadata": {},
   "outputs": [],
   "source": [
    "productions = df['production'].values\n",
    "attractions = df['attraction'].values\n",
    "zone_ids = df['zone_id'].values"
   ]
  },
  {
   "cell_type": "code",
   "execution_count": null,
   "id": "5480fbeb",
   "metadata": {},
   "outputs": [],
   "source": [
    "# Beta parameter for the deterrence function\n",
    "beta = 0.1\n",
    "\n",
    "# Deterrence matrix calculated using the deterrence function and the cost matrix\n",
    "deterrence_matrix = deterrence_function(distances, beta)\n",
    "\n",
    "# Set the error threshold for the stopping condition of the gravity model\n",
    "error_threshold = 0.005\n",
    "\n",
    "# Set the improvement threshold for the stopping condition of the gravity model\n",
    "improvement_threshold = 0.000001"
   ]
  },
  {
   "cell_type": "code",
   "execution_count": null,
   "id": "d9c38c06",
   "metadata": {},
   "outputs": [],
   "source": [
    "Tij = gravity_model(productions, \n",
    "              attractions, \n",
    "              distances, \n",
    "              deterrence_matrix, \n",
    "              error_threshold, \n",
    "              improvement_threshold)"
   ]
  },
  {
   "cell_type": "code",
   "execution_count": null,
   "id": "29e23ef0",
   "metadata": {},
   "outputs": [],
   "source": [
    "Tij"
   ]
  },
  {
   "cell_type": "code",
   "execution_count": null,
   "id": "b1b66256",
   "metadata": {},
   "outputs": [],
   "source": [
    "with open(output_pa_file, 'w', newline='') as csvfile:\n",
    "    csvwriter = csv.writer(csvfile)\n",
    "    csvwriter.writerow(['orig_node', 'dest_node', 'trips', 'orig_node_prod', 'dest_node_attr', 'distance'])\n",
    "    i = 0\n",
    "    for row in Tij:\n",
    "        j = 0\n",
    "        for element in row:\n",
    "            csvwriter.writerow([zone_ids[i], zone_ids[j], element, productions[i], attractions[j], distances[i,j]])\n",
    "            j = j+1\n",
    "        i = i+1"
   ]
  },
  {
   "cell_type": "code",
   "execution_count": null,
   "id": "62aa7ff2",
   "metadata": {},
   "outputs": [],
   "source": [
    "with open(output_od_file, 'w', newline='') as csvfile:\n",
    "    csvwriter = csv.writer(csvfile)\n",
    "    csvwriter.writerow(['orig_node', 'dest_node', 'trips', 'PAtrips', 'APtrips', 'orig_node_prod', 'dest_node_attr', 'distance'])\n",
    "    i = 0\n",
    "    for row in Tij:\n",
    "        j = 0\n",
    "        for element in row:\n",
    "            csvwriter.writerow([zone_ids[i], zone_ids[j], Tij[i,j] + Tij[j,i], Tij[i,j], Tij[j,i], productions[i], attractions[j], distances[i,j]])\n",
    "            j = j+1\n",
    "        i = i+1"
   ]
  }
 ],
 "metadata": {
  "kernelspec": {
   "display_name": "Python 3 (ipykernel)",
   "language": "python",
   "name": "python3"
  },
  "language_info": {
   "codemirror_mode": {
    "name": "ipython",
    "version": 3
   },
   "file_extension": ".py",
   "mimetype": "text/x-python",
   "name": "python",
   "nbconvert_exporter": "python",
   "pygments_lexer": "ipython3",
   "version": "3.11.7"
  }
 },
 "nbformat": 4,
 "nbformat_minor": 5
}
