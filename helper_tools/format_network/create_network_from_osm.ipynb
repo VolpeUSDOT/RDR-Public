{
 "cells": [
  {
   "cell_type": "markdown",
   "metadata": {},
   "source": [
    "# Create RDR Network from OpenStreetMap (OSM) Data\n",
    "This notebook walks through a few steps:\n",
    "\n",
    "1. Download OSM data for a specified region\n",
    "2. Convert OSM data to GMNS format using osm2gmns\n",
    "3. Transform GMNS datasets to use RDR default specifications"
   ]
  },
  {
   "cell_type": "markdown",
   "metadata": {},
   "source": [
    "### Import Modules"
   ]
  },
  {
   "cell_type": "code",
   "execution_count": 19,
   "metadata": {},
   "outputs": [],
   "source": [
    "import os\n",
    "import pandas as pd\n",
    "import osm2gmns as og\n",
    "from pathlib import Path"
   ]
  },
  {
   "cell_type": "markdown",
   "metadata": {},
   "source": [
    "### Set Configuration/Defaults"
   ]
  },
  {
   "cell_type": "code",
   "execution_count": 20,
   "metadata": {},
   "outputs": [],
   "source": [
    "# File path for the raw OSM data\n",
    "# This path should be an existing OSM file (with .osm file extension) if already downloaded\n",
    "# If the file path does not already exist, the tool will attempt to download the file based on relation ID defined below\n",
    "input_osm_data = 'C:\\GitHub\\RDR\\Data\\osm_example\\map.osm'\n",
    "\n",
    "# Relation ID for OSM area\n",
    "# This value is only used if above file path does not yet exist; otherwise can be set to 0\n",
    "relation_id = 182725\n",
    "\n",
    "# Directory for output GMNS data to be stored\n",
    "# Output files are named link.csv and node.csv\n",
    "output_dir = 'C:\\GitHub\\RDR\\Data\\osm_example\\generated_files'\n",
    "\n",
    "# Default value dictionaries\n",
    "# OSM sometimes provides lanes and speed limits but any blanks for these columns, plus all capacity values and RDR facility types,\n",
    "#   must be estimated based on functional class/link type\n",
    "default_lanes_dict = {'motorway': 3, 'trunk': 2, 'primary': 2, 'secondary': 2, 'tertiary': 2,\n",
    "                      'residential': 1, 'service': 1, 'cycleway': 1, 'footway': 1, 'track': 1,\n",
    "                      'unclassified': 1, 'connector': 2}\n",
    "default_speed_dict = {'motorway': 55, 'trunk': 45, 'primary': 40, 'secondary': 35, 'tertiary': 30,\n",
    "                      'residential': 25, 'service': 30, 'cycleway': 5, 'footway': 5, 'track': 30,\n",
    "                      'unclassified': 30, 'connector': 55}\n",
    "default_capacity_dict = {'motorway': 2000, 'trunk': 1800, 'primary': 1200, 'secondary': 1000, 'tertiary': 800,\n",
    "                         'residential': 500, 'service': 500, 'cycleway': 800, 'footway': 800, 'track': 800,\n",
    "                         'unclassified': 800, 'connector': 9999}\n",
    "default_factype_dict = {'motorway': '1', 'trunk': '2', 'primary': '3', 'secondary': '4', 'tertiary': '5',\n",
    "                        'residential': '6', 'service': '7', 'cycleway': '7', 'footway': '7', 'track': '7',\n",
    "                        'unclassified': '7', 'connector': '901'}"
   ]
  },
  {
   "cell_type": "markdown",
   "metadata": {},
   "source": [
    "### Download OSM Data (manually or through osm2gmns)\n",
    "There are several options to download raw OSM data that are described here: https://osm2gmns.readthedocs.io/en/latest/quick-start.html\n",
    "\n",
    "1. As a first option, if a simple rectangular extent for your network is adequate, you can go to:\n",
    "    - Go to https://www.openstreetmap.org/, zoom to your area, and try to export. The extracted file should have a .osm file extension.\n",
    "    - Note that the default option may not be possible as it is limited to 50,000 nodes. In this case, try the second option.\n",
    "\n",
    "2. The second option is to use the Overpass API directly via the downloadOSMData function in osm2gmns.\n",
    "    - However, you will still need to go to https://www.openstreetmap.org/ to identify the unique relation id.\n",
    "    - If OSM data is being downloaded via osm2gmns, the relation ID is needed to define the extent of the OSM extract. For example, the relation ID for Lima, Ohio can be found here: https://www.openstreetmap.org/relation/182725.\n",
    "\n",
    "3. Geofabrik is a good third option to try because you can easily get extracts of specific geographies.\n",
    "    - Website: https://download.geofabrik.de/\n",
    "    - However, Geofabrik may not be ideal if your area of interest is small or overlaps multiple states."
   ]
  },
  {
   "cell_type": "code",
   "execution_count": null,
   "metadata": {},
   "outputs": [],
   "source": [
    "# Download OSM data as needed by relation_id\n",
    "if os.path.exists(input_osm_data):\n",
    "    pass\n",
    "else:\n",
    "    path = Path(input_osm_data)\n",
    "    path.parent.absolute().mkdir(parents=True, exist_ok=True)\n",
    "    og.downloadOSMData(relation_id, input_osm_data)"
   ]
  },
  {
   "cell_type": "markdown",
   "metadata": {},
   "source": [
    "### Process Data Using OSM2GMNS\n",
    "The osm2gmns package provides several methods to help convert the OSM data into the General Modeling Network Specification used by the RDR Tool Suite. The user should feel free to adjust the list of 'link_types' specified. For example, the user could remove 'residential' to make the RDR network simpler. Note that this helper tool only creates a road network for RDR.\n",
    "\n",
    "The user should also feel free to adjust 'start_node_id' to accommodate the number of centroids in their network."
   ]
  },
  {
   "cell_type": "code",
   "execution_count": null,
   "metadata": {},
   "outputs": [],
   "source": [
    "# Process file into GMNS format\n",
    "net = og.getNetFromFile(input_osm_data, network_types = ('auto'),\n",
    "                        link_types = ['motorway','trunk', 'primary', 'secondary', 'tertiary', 'residential', 'unclassified'],\n",
    "                        offset = 'right',\n",
    "                        default_lanes = default_lanes_dict,\n",
    "                        default_speed = default_speed_dict,\n",
    "                        default_capacity = default_capacity_dict,\n",
    "                        start_node_id = 100,\n",
    "                        start_link_id = 1)"
   ]
  },
  {
   "cell_type": "code",
   "execution_count": null,
   "metadata": {
    "scrolled": true
   },
   "outputs": [],
   "source": [
    "# Combine short links\n",
    "# If this code block produces an error for the user's region, it can be commented out\n",
    "og.combineShortLinks(net)\n"
   ]
  },
  {
   "cell_type": "code",
   "execution_count": null,
   "metadata": {},
   "outputs": [],
   "source": [
    "# Consolidate complex intersections\n",
    "og.consolidateComplexIntersections(net, auto_identify=True)"
   ]
  },
  {
   "cell_type": "code",
   "execution_count": null,
   "metadata": {},
   "outputs": [],
   "source": [
    "# Output the OSM network in GMNS CSV format\n",
    "# Creates a GMNS_link.csv and GMNS_node.csv from the raw OSM data\n",
    "og.outputNetToCSV(net, output_folder = output_dir)\n",
    "os.rename(os.path.join(output_dir, 'link.csv'), os.path.join(output_dir, 'GMNS_link.csv'))\n",
    "os.rename(os.path.join(output_dir, 'node.csv'), os.path.join(output_dir, 'GMNS_node.csv'))"
   ]
  },
  {
   "cell_type": "markdown",
   "metadata": {},
   "source": [
    "### Prepare GMNS Files For RDR\n",
    "#### node.csv\n",
    "The node CSV file created by osm2gmns includes all of the RDR required columns: 'node_id', 'x_coord', 'y_coord', and 'node_type'.\n",
    "  * However 'node_type' is typically blank, so below code labels all nodes as 'not_centroid'. Centroid nodes need to be separately created and appended to the file.\n",
    "  * All node IDs are unique, per the RDR requirements.\n",
    "\n",
    "#### link.csv\n",
    "The link CSV created by osm2gmns includes the RDR required columns: 'link_id, 'from_node_id', 'to_node_id, 'length', 'capacity', 'free_speed', 'lanes', and 'allowed_uses'.\n",
    "  * However, it does not include the following fields: 'directed' (has 'dir_flag' instead), 'facility_type' (has 'link_type' instead), 'toll', or 'travel_time'.\n",
    "  * The below code: (1) converts 'dir_flag' to 'directed', (2) replaces 'auto' with 'c' in 'allowed_uses' column, (3) converts 'length' from meters to miles, (4) converts 'free_speed' from kmph to mph, (5) converts 'capacity' from veh/hr to veh/day/lane using a peak-hour-to-day conversion of 10.\n",
    "  * The below code also creates a 'facility_type' column from 'link_type' based on the default value dictionary above.\n",
    "  * The below code sets all toll values to zero. The user can manually add tolls the the output CSV file as needed.\n",
    "  * The below code calculates 'travel_time' in minutes from 'length' and 'free_speed'.\n",
    "  * Other fields that may be required depending on the scenario ('toll_nocar' and 'travel_time_nocar') are not included and need to be added manually by the user if needed.\n",
    "  * All link IDs are unique, and 'link_id', 'from_node_id', and 'to_node_id' have no missing values, per the RDR requirements."
   ]
  },
  {
   "cell_type": "code",
   "execution_count": 21,
   "metadata": {},
   "outputs": [],
   "source": [
    "# Create node file\n",
    "df_node = pd.read_csv(os.path.join(output_dir, 'GMNS_node.csv'),\n",
    "                      skip_blank_lines=True,\n",
    "                      converters={'node_id': str, 'node_type': str})\n",
    "df_node['node_type'] = 'not_centroid'\n",
    "df_node.to_csv(os.path.join(output_dir, 'node.csv'), index=False)"
   ]
  },
  {
   "cell_type": "code",
   "execution_count": 22,
   "metadata": {},
   "outputs": [],
   "source": [
    "# Create link file\n",
    "df_link = pd.read_csv(os.path.join(output_dir, 'GMNS_link.csv'),\n",
    "                      skip_blank_lines=True,\n",
    "                      converters={'link_id': str, 'from_node_id': str, 'to_node_id': str, 'dir_flag': int,\n",
    "                                  'length': float, 'link_type_name': str, 'capacity': float, 'free_speed': float,\n",
    "                                  'lanes': int, 'allowed_uses': str})\n",
    "df_link['directed'] = df_link['dir_flag']\n",
    "if (df_link['directed'] != 1).any():\n",
    "    print(\"Warning: Not all links are one-way, a requirement for an RDR network. Manually adjust the link CSV file as needed.\")\n",
    "df_link['allowed_uses'] = 'c'\n",
    "df_link['length'] = df_link['length'] * 0.000621371\n",
    "df_link['free_speed'] = df_link['free_speed'] * 0.621371\n",
    "df_link['capacity'] = 10 * df_link['capacity'] / df_link['lanes']\n",
    "df_link['facility_type'] = df_link['link_type_name'].map(default_factype_dict)\n",
    "df_link['toll'] = 0\n",
    "df_link['travel_time'] = 60 * df_link['length'] / df_link['free_speed']\n",
    "df_link.to_csv(os.path.join(output_dir, 'link.csv'), index=False)"
   ]
  }
 ],
 "metadata": {
  "kernelspec": {
   "display_name": "RDRenv",
   "language": "python",
   "name": "python3"
  },
  "language_info": {
   "codemirror_mode": {
    "name": "ipython",
    "version": 3
   },
   "file_extension": ".py",
   "mimetype": "text/x-python",
   "name": "python",
   "nbconvert_exporter": "python",
   "pygments_lexer": "ipython3",
   "version": "3.11.11"
  }
 },
 "nbformat": 4,
 "nbformat_minor": 4
}
